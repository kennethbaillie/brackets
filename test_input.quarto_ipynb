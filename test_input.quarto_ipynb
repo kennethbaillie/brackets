{
  "cells": [
    {
      "cell_type": "markdown",
      "metadata": {},
      "source": [
        "---\n",
        "title: \"Your Document Title\"\n",
        "format: html\n",
        "params:\n",
        "  file_path: !expr quarto.file\n",
        "---"
      ],
      "id": "31944f8c"
    },
    {
      "cell_type": "code",
      "metadata": {},
      "source": [
        "#| echo: false\n",
        "#from bracketsviewer import extract_and_display_names\n",
        "#extract_and_display_names()\n",
        "\n",
        "import os\n",
        "\n",
        "# Access the file path from Quarto parameters\n",
        "current_file = r.get(\"params\").get(\"file_path\")\n",
        "\n",
        "# Read the content of the file\n",
        "with open(current_file) as file:\n",
        "    content = file.read()\n",
        "\n",
        "# Now you can parse the content as needed\n",
        "# For example, you can print it or process it further\n",
        "print(content)"
      ],
      "id": "77dd62f3",
      "execution_count": null,
      "outputs": []
    },
    {
      "cell_type": "markdown",
      "metadata": {},
      "source": [
        "# Gen\n",
        "\n",
        "## Sparkt\n",
        "\n",
        "### Moo\n",
        "\n",
        "This is a sentence with [Tom, Dick].\n",
        "Another line with [Dick, Harry].\n",
        "And a third line with [Tom, Harry, Bob].\n",
        "\n",
        "And actually a fourth one, now added. [Jane]\n",
        "What about this then [Jemima, Dudo]"
      ],
      "id": "49a46976"
    }
  ],
  "metadata": {
    "kernelspec": {
      "name": "python3",
      "language": "python",
      "display_name": "Python 3 (ipykernel)",
      "path": "/usr/local/share/jupyter/kernels/python3"
    }
  },
  "nbformat": 4,
  "nbformat_minor": 5
}