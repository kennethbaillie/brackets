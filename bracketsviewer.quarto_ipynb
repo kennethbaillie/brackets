{
  "cells": [
    {
      "cell_type": "markdown",
      "metadata": {},
      "source": [
        "---\n",
        "title: \"Your Document Title\"\n",
        "format: html\n",
        "params:\n",
        "  file_path: !expr quarto.file\n",
        "---"
      ],
      "id": "95980677"
    },
    {
      "cell_type": "code",
      "metadata": {},
      "source": [
        "import os\n",
        "\n",
        "# Access the file path from Quarto parameters\n",
        "current_file = r.get(\"params\").get(\"file_path\")\n",
        "\n",
        "# Read the content of the file\n",
        "with open(current_file, 'r') as file:\n",
        "    content = file.read()\n",
        "\n",
        "# Now you can parse the content as needed\n",
        "# For example, you can print it or process it further\n",
        "print(content)"
      ],
      "id": "95bdbe3e",
      "execution_count": null,
      "outputs": []
    }
  ],
  "metadata": {
    "kernelspec": {
      "name": "python3",
      "language": "python",
      "display_name": "Python 3 (ipykernel)",
      "path": "/usr/local/share/jupyter/kernels/python3"
    }
  },
  "nbformat": 4,
  "nbformat_minor": 5
}